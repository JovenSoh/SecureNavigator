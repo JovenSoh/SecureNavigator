{
 "cells": [
  {
   "cell_type": "code",
   "execution_count": 1,
   "metadata": {},
   "outputs": [],
   "source": [
    "import random as rd\n",
    "with open('common_tables.txt') as f:\n",
    "    tableNames = f.read().splitlines() \n",
    "    # using findall() to neglect unicode of Non-English alphabets\n",
    "    tableNames = list(filter(lambda ele: ele.isalpha(), tableNames))\n",
    "    \n",
    "with open('common_columns.txt') as f:\n",
    "    columnNames = f.read().splitlines() \n",
    "    # using findall() to neglect unicode of Non-English alphabets\n",
    "    columnNames = list(filter(lambda ele: ele.isalpha(), columnNames))\n",
    "    \n",
    "lines = []\n",
    "\n",
    "#string concat using + signs\n",
    "for table in tableNames:\n",
    "    column = columnNames[rd.randint(0,len(columnNames)-1)]\n",
    "    #Using +\n",
    "    vulnerable = \"query = 'SELECT * FROM {} WHERE {} =' + input\".format(table,column)\n",
    "    fixed = \"query = 'SELECT * FROM {} WHERE {} = ?'\".format(table,column)\n",
    "    lines.append([vulnerable,fixed])\n",
    "    #Using ${}\n",
    "    vulnerable = \"query = 'SELECT * FROM {} WHERE {} = (${id})'\".format(table,column,id='{data.'+column+'}')\n",
    "    lines.append([vulnerable,fixed])\n",
    "    #Inserting values\n",
    "    vulnerable = \"const stmt = 'INSERT INTO {} VALUES(' + 'data' + ')'\".format(table)\n",
    "    fixed = \"const stmt = db.prepare('INSERT INTO {} VALUES (?)')\".format(table)\n",
    "    lines.append([vulnerable,fixed])\n",
    "    \n",
    "for column in columnNames:\n",
    "    table = tableNames[rd.randint(0,len(tableNames)-1)]\n",
    "    vulnerable = \"query = 'SELECT * FROM {} WHERE {} =' + input\".format(table,column)\n",
    "    fixed = \"query = 'SELECT * FROM {} WHERE {} = ?'\".format(table,column)\n",
    "    lines.append([vulnerable,fixed])\n",
    "    vulnerable = \"query = 'SELECT * FROM {} WHERE {} = (${id})'\".format(table,column,id='{data.'+column+'}')\n",
    "    lines.append([vulnerable,fixed])\n",
    "        \n",
    "        \n",
    "with open('data.csv', 'w') as f:\n",
    "    for line in lines:\n",
    "        f.write(line[0]+','+line[1]+'\\n')"
   ]
  },
  {
   "cell_type": "markdown",
   "metadata": {},
   "source": [
    "## Text File"
   ]
  },
  {
   "cell_type": "code",
   "execution_count": 3,
   "metadata": {},
   "outputs": [],
   "source": [
    "import random as rd\n",
    "with open('common_tables.txt') as f:\n",
    "    tableNames = f.read().splitlines() \n",
    "    # using findall() to neglect unicode of Non-English alphabets\n",
    "    tableNames = list(filter(lambda ele: ele.isalpha(), tableNames))\n",
    "    \n",
    "with open('common_columns.txt') as f:\n",
    "    columnNames = f.read().splitlines() \n",
    "    # using findall() to neglect unicode of Non-English alphabets\n",
    "    columnNames = list(filter(lambda ele: ele.isalpha(), columnNames))\n",
    "    \n",
    "lines = []\n",
    "\n",
    "#string concat using + signs\n",
    "for table in tableNames:\n",
    "    for i in range(3):\n",
    "        column = columnNames[rd.randint(0,len(columnNames)-1)]\n",
    "        #Using +\n",
    "        vulnerable = \"query = 'SELECT * FROM {} WHERE {} =' + input\".format(table,column)\n",
    "        fixed = \"query = db.prepare('SELECT * FROM {} WHERE {} = ?')\".format(table,column)\n",
    "        lines.append([vulnerable,fixed])\n",
    "        #Using string.concat\n",
    "        vulnerable = \"query = 'SELECT * FROM {} WHERE {} =' query.concat(input)\".format(table,column)\n",
    "        fixed = \"query = db.prepare('SELECT * FROM {} WHERE {} = ?')\".format(table,column)\n",
    "        lines.append([vulnerable,fixed])\n",
    "        #Inserting values\n",
    "        vulnerable = \"const stmt = 'INSERT INTO {} VALUES(' + 'data' + ')'\".format(table)\n",
    "        fixed = \"const stmt = db.prepare('INSERT INTO {} VALUES (?)')\".format(table)\n",
    "        lines.append([vulnerable,fixed])\n",
    "\n",
    "for column in columnNames:\n",
    "    for i in range(3):\n",
    "        table = tableNames[rd.randint(0,len(tableNames)-1)]\n",
    "        vulnerable = \"query = 'SELECT * FROM {} WHERE {} =' + input\".format(table,column)\n",
    "        fixed = \"query = 'SELECT * FROM {} WHERE {} = ?'\".format(table,column)\n",
    "        lines.append([vulnerable,fixed])\n",
    "        \n",
    "        \n",
    "with open('data.txt', 'w') as f:\n",
    "    for line in lines:\n",
    "        f.write(line[0]+'\\t'+line[1]+'\\t\\n')"
   ]
  }
 ],
 "metadata": {
  "kernelspec": {
   "display_name": "Python 3",
   "language": "python",
   "name": "python3"
  },
  "language_info": {
   "codemirror_mode": {
    "name": "ipython",
    "version": 3
   },
   "file_extension": ".py",
   "mimetype": "text/x-python",
   "name": "python",
   "nbconvert_exporter": "python",
   "pygments_lexer": "ipython3",
   "version": "3.7.2"
  }
 },
 "nbformat": 4,
 "nbformat_minor": 2
}
